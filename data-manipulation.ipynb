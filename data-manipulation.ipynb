{
 "cells": [
  {
   "cell_type": "code",
   "execution_count": 5,
   "metadata": {},
   "outputs": [],
   "source": [
    "from gettext import install\n",
    "import pandas as pd\n",
    "import numpy as np\n",
    "import json\n",
    "import csv\n",
    "\n"
   ]
  },
  {
   "cell_type": "code",
   "execution_count": 10,
   "metadata": {},
   "outputs": [
    {
     "name": "stdout",
     "output_type": "stream",
     "text": [
      "Collecting python-dotenv\n",
      "  Using cached python_dotenv-0.20.0-py3-none-any.whl (17 kB)\n",
      "Installing collected packages: python-dotenv\n",
      "Successfully installed python-dotenv-0.20.0\n",
      "Note: you may need to restart the kernel to use updated packages.\n"
     ]
    }
   ],
   "source": [
    "pip install python-dotenv"
   ]
  },
  {
   "cell_type": "code",
   "execution_count": 71,
   "metadata": {},
   "outputs": [],
   "source": [
    "### Joins both player stat csv files into one. deleting duplicate + unnecessary columns\n",
    "\n",
    "players_career_info = pd.read_csv(\"./data/raw-csv/Player Per Game.csv\")\n",
    "advanced = pd.read_csv(\"./data/raw-csv/Advanced.csv\")\n",
    "player_info = pd.read_csv(\"./data/raw-csv/Player Career Info.csv\")\n",
    "# print(players_career_info.iloc[[5]])\n",
    "players_career_info.drop(['player', 'birth_year'], axis=1, inplace=True)\n",
    "advanced.drop(['seas_id', 'season', 'player_id', 'player', 'birth_year', 'pos', 'age','experience', 'lg', 'tm', 'g', 'mp'], axis=1, inplace=True)\n",
    "player_stats = players_career_info.join(advanced)\n",
    "# print(player_stats.columns.values)\n",
    "\n",
    "### player stats data final\n",
    "\n",
    "# pd.DataFrame(player_stats).to_csv(\"./data/player_stats.csv\")\n",
    "\n",
    "\n",
    "\n",
    "\n",
    "\n"
   ]
  },
  {
   "cell_type": "code",
   "execution_count": null,
   "metadata": {},
   "outputs": [],
   "source": [
    "import requests\n",
    "import dotenv\n",
    "from os import environ\n",
    "import time\n",
    "env_file = './.env'\n",
    "\n",
    "## get api key\n",
    "f = open(env_file)\n",
    "dotenv.load_dotenv(env_file, override=True)\n",
    "API_KEY =  os.environ.get('X-RapidAPI-Key')\n",
    "\n",
    "#### player info w image\n",
    "player_info = pd.read_csv(\"./data/raw-csv/Player Career Info.csv\")\n",
    "img = []\n",
    "\n",
    "#loop to add image link to every nba player\n",
    "for  index in player_info.index:\n",
    "  response = \"\"\n",
    "  time.sleep(.2)\n",
    "  ## get image url\n",
    "  url = \"https://google-image-search1.p.rapidapi.com/v2/\"\n",
    "  querystring = {\"q\": player_info.loc[index, \"player\"],\"hl\":\"en\"}\n",
    "  print(player_info.loc[index, \"player\"])\n",
    "  headers = {\n",
    "    \"X-RapidAPI-Key\": API_KEY,\n",
    "    \"X-RapidAPI-Host\": \"google-image-search1.p.rapidapi.com\"\n",
    "  }\n",
    "  response = requests.request(\"GET\", url, headers=headers, params=querystring)\n",
    "  try:\n",
    "    img.append(response.json()[\"response\"][\"images\"][0][\"image\"][\"url\"])\n",
    "  except Exception as e:\n",
    "    img.append('null')\n",
    "  \n",
    "\n",
    "\n",
    "\n",
    "\n",
    "## add image link to columns\n",
    "player_info[\"img_url\"] = img\n",
    "print(player_info)\n",
    "pd.DataFrame(player_info).to_csv(\"./data/players.csv\")"
   ]
  },
  {
   "cell_type": "code",
   "execution_count": 4,
   "metadata": {},
   "outputs": [],
   "source": [
    "### delete extra index row\n",
    "\n",
    "players = pd.read_csv(\"./data/players.csv\")\n",
    "player_stats = pd.read_csv(\"./data/player_stats.csv\")\n",
    "\n",
    "players.drop(players.columns[0], axis=1, inplace=True)\n",
    "player_stats.drop(player_stats.columns[0], axis=1, inplace=True)\n",
    "\n",
    "# pd.DataFrame(players).to_csv(\"./data/test.csv\", index=False)\n",
    "# pd.DataFrame(player_stats).to_csv(\"./data/stat.csv\", index=False)\n",
    "\n",
    "# print(players.columns.values)\n",
    "# print(player_stats.columns.values)\n"
   ]
  },
  {
   "cell_type": "code",
   "execution_count": 10,
   "metadata": {},
   "outputs": [],
   "source": [
    "players = pd.read_csv(\"./data/players.csv\")\n",
    "player_stats = pd.read_csv(\"./data/player_stats.csv\")\n",
    "\n",
    "players.replace(\" \", \"TEST\", inplace=True)\n",
    "pd.DataFrame(players).to_csv(\"./data/test.csv\", index=False)\n"
   ]
  }
 ],
 "metadata": {
  "kernelspec": {
   "display_name": "Python 3.9.12 ('base')",
   "language": "python",
   "name": "python3"
  },
  "language_info": {
   "codemirror_mode": {
    "name": "ipython",
    "version": 3
   },
   "file_extension": ".py",
   "mimetype": "text/x-python",
   "name": "python",
   "nbconvert_exporter": "python",
   "pygments_lexer": "ipython3",
   "version": "3.9.12"
  },
  "orig_nbformat": 4,
  "vscode": {
   "interpreter": {
    "hash": "2b929720c33822319dbf9372a2179ed2652081fe391005ae5fcaf416ba21e1dc"
   }
  }
 },
 "nbformat": 4,
 "nbformat_minor": 2
}
