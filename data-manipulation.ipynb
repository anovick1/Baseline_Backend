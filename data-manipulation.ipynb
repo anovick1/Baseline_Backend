{
 "cells": [
  {
   "cell_type": "code",
   "execution_count": 11,
   "metadata": {},
   "outputs": [
    {
     "ename": "SyntaxError",
     "evalue": "invalid syntax (938947523.py, line 7)",
     "output_type": "error",
     "traceback": [
      "\u001b[0;36m  Input \u001b[0;32mIn [11]\u001b[0;36m\u001b[0m\n\u001b[0;31m    import basketball-reference-scraper\u001b[0m\n\u001b[0m                     ^\u001b[0m\n\u001b[0;31mSyntaxError\u001b[0m\u001b[0;31m:\u001b[0m invalid syntax\n"
     ]
    }
   ],
   "source": [
    "from gettext import install\n",
    "import pandas as pd\n",
    "import numpy as np\n",
    "import json\n",
    "import csv\n",
    "\n"
   ]
  },
  {
   "cell_type": "code",
   "execution_count": 71,
   "metadata": {},
   "outputs": [],
   "source": [
    "### Joins both player stat csv files into one. deleting duplicate + unnecessary columns\n",
    "\n",
    "players_career_info = pd.read_csv(\"./data/raw-csv/Player Per Game.csv\")\n",
    "advanced = pd.read_csv(\"./data/raw-csv/Advanced.csv\")\n",
    "player_info = pd.read_csv(\"./data/raw-csv/Player Career Info.csv\")\n",
    "# print(players_career_info.iloc[[5]])\n",
    "players_career_info.drop(['player', 'birth_year'], axis=1, inplace=True)\n",
    "advanced.drop(['seas_id', 'season', 'player_id', 'player', 'birth_year', 'pos', 'age','experience', 'lg', 'tm', 'g', 'mp'], axis=1, inplace=True)\n",
    "player_stats = players_career_info.join(advanced)\n",
    "# print(player_stats.columns.values)\n",
    "\n",
    "### player stats data final\n",
    "\n",
    "# pd.DataFrame(player_stats).to_csv(\"./data/player_stats.csv\")\n",
    "\n",
    "\n",
    "\n",
    "\n",
    "\n"
   ]
  },
  {
   "cell_type": "code",
   "execution_count": 94,
   "metadata": {},
   "outputs": [
    {
     "name": "stdout",
     "output_type": "stream",
     "text": [
      "https://b.fssta.com/uploads/application/nba/headshots/1550.vresize.350.350.medium.90.png\n"
     ]
    }
   ],
   "source": [
    "import requests\n",
    "\n",
    "#### player info w image\n",
    "player_info = pd.read_csv(\"./data/raw-csv/Player Career Info.csv\")\n",
    "\n",
    "\n",
    "# url = \"https://google-image-search1.p.rapidapi.com/v2/\"\n",
    "\n",
    "# querystring = {\"q\":\"Stephen Curry\",\"hl\":\"en\"}\n",
    "\n",
    "# headers = {\n",
    "# \t\"X-RapidAPI-Key\": \"dee50abc02msh5f35415b6a9ccfcp16104cjsn949c6585fb98\",\n",
    "# \t\"X-RapidAPI-Host\": \"google-image-search1.p.rapidapi.com\"\n",
    "# }\n",
    "\n",
    "# response = requests.request(\"GET\", url, headers=headers, params=querystring)\n",
    "# print(response.json()[\"response\"][\"images\"][0][\"image\"][\"url\"])\n"
   ]
  }
 ],
 "metadata": {
  "kernelspec": {
   "display_name": "Python 3.9.12 ('base')",
   "language": "python",
   "name": "python3"
  },
  "language_info": {
   "codemirror_mode": {
    "name": "ipython",
    "version": 3
   },
   "file_extension": ".py",
   "mimetype": "text/x-python",
   "name": "python",
   "nbconvert_exporter": "python",
   "pygments_lexer": "ipython3",
   "version": "3.9.12"
  },
  "orig_nbformat": 4,
  "vscode": {
   "interpreter": {
    "hash": "2b929720c33822319dbf9372a2179ed2652081fe391005ae5fcaf416ba21e1dc"
   }
  }
 },
 "nbformat": 4,
 "nbformat_minor": 2
}
